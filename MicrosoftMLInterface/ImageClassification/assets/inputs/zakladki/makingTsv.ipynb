{
 "cells": [
  {
   "cell_type": "code",
   "execution_count": 1,
   "metadata": {},
   "outputs": [],
   "source": [
    "import os\n",
    "from os import walk\n",
    "import csv"
   ]
  },
  {
   "cell_type": "code",
   "execution_count": 2,
   "metadata": {},
   "outputs": [],
   "source": [
    "filenames1 = []\n",
    "filenames2 = []\n",
    "for (dirpath, dirnames, filenames) in walk(\"./test/nezakl\"):\n",
    "    filenames1.extend(filenames)\n",
    "    break\n",
    "for (dirpath, dirnames, filenames) in walk(\"./test/zakl\"):\n",
    "    filenames2.extend(filenames)\n",
    "    break    "
   ]
  },
  {
   "cell_type": "code",
   "execution_count": 3,
   "metadata": {},
   "outputs": [],
   "source": [
    "dictionary = {}"
   ]
  },
  {
   "cell_type": "code",
   "execution_count": 4,
   "metadata": {},
   "outputs": [],
   "source": [
    "for file in filenames1:\n",
    "    dictionary.update({file:\"nezakl\"})\n",
    "for file in filenames2:\n",
    "    dictionary.update({file:\"zakl\"})    "
   ]
  },
  {
   "cell_type": "code",
   "execution_count": 5,
   "metadata": {},
   "outputs": [
    {
     "data": {
      "text/plain": [
       "1000"
      ]
     },
     "execution_count": 5,
     "metadata": {},
     "output_type": "execute_result"
    }
   ],
   "source": [
    "len(dictionary)"
   ]
  },
  {
   "cell_type": "code",
   "execution_count": 6,
   "metadata": {},
   "outputs": [],
   "source": [
    "w = csv.writer(open(\"image_list.tsv\", \"w\"), delimiter='\\t')\n",
    "for key, val in dictionary.items():\n",
    "    w.writerow([key, val])"
   ]
  },
  {
   "cell_type": "code",
   "execution_count": 7,
   "metadata": {},
   "outputs": [],
   "source": [
    "def remove_empty_lines(filename):\n",
    "    if not os.path.isfile(filename):\n",
    "        print(\"{} does not exist \".format(filename))\n",
    "        return\n",
    "    with open(filename) as filehandle:\n",
    "        lines = filehandle.readlines()\n",
    "\n",
    "    with open(filename, 'w') as filehandle:\n",
    "        lines = filter(lambda x: x.strip(), lines)\n",
    "        filehandle.writelines(lines)   \n",
    "remove_empty_lines(\"image_list.tsv\")        "
   ]
  },
  {
   "cell_type": "code",
   "execution_count": null,
   "metadata": {},
   "outputs": [],
   "source": []
  }
 ],
 "metadata": {
  "kernelspec": {
   "display_name": "Python 3",
   "language": "python",
   "name": "python3"
  },
  "language_info": {
   "codemirror_mode": {
    "name": "ipython",
    "version": 3
   },
   "file_extension": ".py",
   "mimetype": "text/x-python",
   "name": "python",
   "nbconvert_exporter": "python",
   "pygments_lexer": "ipython3",
   "version": "3.6.7"
  }
 },
 "nbformat": 4,
 "nbformat_minor": 2
}
